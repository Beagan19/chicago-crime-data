{
 "cells": [
  {
   "cell_type": "markdown",
   "id": "6ec35eb1",
   "metadata": {},
   "source": [
    "# Prepare Chicago Crime Data for a GitHub Repository"
   ]
  },
  {
   "cell_type": "markdown",
   "id": "30284ecf",
   "metadata": {},
   "source": [
    "- Original Notebook Source: https://github.com/coding-dojo-data-science/preparing-chicago-crime-data\n",
    "- Updated 11/16/22"
   ]
  },
  {
   "cell_type": "markdown",
   "id": "8a7f3b6a",
   "metadata": {},
   "source": [
    ">- This notebook will process a \"Crimes - 2001 to Preset.csv\" crime file in your Downloads folder and save it as several smaller .csv.gz's in a new \"Data/Chicago/\" folder inside this notebook's folder/repo."
   ]
  },
  {
   "cell_type": "markdown",
   "id": "9c338d8e",
   "metadata": {},
   "source": [
    "# INSTRUCTIONS"
   ]
  },
  {
   "cell_type": "markdown",
   "id": "6509f0da",
   "metadata": {},
   "source": [
    "- 1) Go to the Chicago Data Portal's page for [\"Crimes - 2001 to Preset\"](https://data.cityofchicago.org/Public-Safety/Crimes-2001-to-Present/ijzp-q8t2).\n",
    "\n",
    "- 2) Click on the Export button on the top right and select CSV. \n",
    "    - Save the file to your Downloads folder instead of your repository. **The file is too big for a repository.**\n",
    "    \n",
    "    \n",
    "    \n",
    "- 3) Wait for the full file to download. \n",
    "    - It is very large (over >1GB and may take several minutes to fully download.)\n",
    "    \n",
    "    \n",
    "- 4) Once the download is complete, change `RAW_FILE` variable below to match the filepath to the downloaded file."
   ]
  },
  {
   "cell_type": "markdown",
   "id": "4627fa5b",
   "metadata": {},
   "source": [
    "## 🚨 Set the correct `RAW_FILE` path"
   ]
  },
  {
   "cell_type": "markdown",
   "id": "dc0efd42",
   "metadata": {},
   "source": [
    "- The cell below will attempt to check your Downloads folder for any file with a name that contains \"Crimes_-_2001_to_Present\".\n",
    "    - If you know the file path already, you can skip the next cell and just manually set the RAW_FILE variable in the following code cell."
   ]
  },
  {
   "cell_type": "code",
   "execution_count": null,
   "id": "14eefd0c",
   "metadata": {},
   "outputs": [],
   "source": [
    "## Run the cell below to attempt to programmatically find your crime file\n",
    "import os,glob\n",
    "\n",
    "## Getting the home folder from environment variables\n",
    "home_folder = os.environ['HOME']\n",
    "# print(\"- Your Home Folder is: \" + home_folder)\n",
    "\n",
    "## Check for downloads folder\n",
    "if 'Downloads' in os.listdir(home_folder):\n",
    "    \n",
    "    \n",
    "    # Print the Downloads folder path\n",
    "    dl_folder = os.path.abspath(os.path.join(home_folder,'Downloads'))\n",
    "    print(f\"- Your Downloads folder is '{dl_folder}/'\\n\")\n",
    "    \n",
    "    ## checking for crime files using glob\n",
    "    crime_files = sorted(glob.glob(dl_folder+'/**/Crimes_-_2001_to_Present*',recursive=True))\n",
    "    \n",
    "    # If more than \n",
    "    if len(crime_files)==1:\n",
    "        RAW_FILE = crime_files[0]\n",
    "        \n",
    "    elif len(crime_files)>1:\n",
    "        print('[i] The following files were found:')\n",
    "        \n",
    "        for i, fname in enumerate(crime_files):\n",
    "            print(f\"\\t- File {i}) '{fname}'\")\n",
    "        print(f'\\n- Please fill in the RAW_FILE variable in the code cell below with the correct filepath.')\n",
    "\n",
    "else:\n",
    "    print(f'[!] Could not programmatically find your downloads folder.')\n",
    "    print('- Try using Finder (on Mac) or File Explorer (Windows) to navigate to your Downloads folder.')\n"
   ]
  },
  {
   "cell_type": "code",
   "execution_count": null,
   "id": "3c1267af",
   "metadata": {},
   "outputs": [],
   "source": [
    "## MAKE SURE TO CHANGE THIS VARIABLE TO MATCH YOUR LOCAL FILE NAME\n",
    "RAW_FILE = \"YOUR FILEPATH HERE!\""
   ]
  },
  {
   "cell_type": "markdown",
   "id": "894c80f3",
   "metadata": {},
   "source": [
    "# 🔄 Full Workflow"
   ]
  },
  {
   "cell_type": "markdown",
   "id": "b6fefbd7",
   "metadata": {},
   "source": [
    "- Now that your RAW_FILE variable is set either:\n",
    "    - On the toolbar, click on the Kernel menu > \"Restart and Run All\".\n",
    "    - OR click on this cell first, then on the toolbar click on the \"Cell\" menu > \"Run All Below\""
   ]
  },
  {
   "cell_type": "code",
   "execution_count": null,
   "id": "0a19b6d3",
   "metadata": {
    "ExecuteTime": {
     "end_time": "2022-07-19T21:57:53.130039Z",
     "start_time": "2022-07-19T21:57:53.111531Z"
    }
   },
   "outputs": [],
   "source": [
    "import pandas as pd\n",
    "pd.set_option('display.max_columns', 100)\n",
    "\n",
    "chicago_full = pd.read_csv(RAW_FILE)\n",
    "chicago_full"
   ]
  },
  {
   "cell_type": "code",
   "execution_count": null,
   "id": "13ea2508",
   "metadata": {
    "ExecuteTime": {
     "end_time": "2022-07-19T22:00:56.546373Z",
     "start_time": "2022-07-19T21:58:59.582570Z"
    }
   },
   "outputs": [],
   "source": [
    "# this cell can take a minute + to run\n",
    "chicago_full['Datetime'] = pd.to_datetime(chicago_full['Date'])\n",
    "chicago_full = chicago_full.sort_values('Datetime')\n",
    "chicago_full = chicago_full.set_index('Datetime')\n",
    "chicago_full"
   ]
  },
  {
   "cell_type": "code",
   "execution_count": null,
   "id": "b08fc550",
   "metadata": {},
   "outputs": [],
   "source": [
    "(chicago_full.isna().sum()/len(chicago_full)).round(2)"
   ]
  },
  {
   "cell_type": "markdown",
   "id": "1d5375bd",
   "metadata": {},
   "source": [
    "## Separate the Full Dataset by Years"
   ]
  },
  {
   "cell_type": "markdown",
   "id": "73d32c1b",
   "metadata": {},
   "source": [
    "### Creating Bins for Files"
   ]
  },
  {
   "cell_type": "code",
   "execution_count": null,
   "id": "387c9dac",
   "metadata": {
    "ExecuteTime": {
     "end_time": "2022-07-19T22:00:57.098220Z",
     "start_time": "2022-07-19T22:00:56.968728Z"
    }
   },
   "outputs": [],
   "source": [
    "# save the years for every crime\n",
    "years = chicago_full.index.year\n",
    "years"
   ]
  },
  {
   "cell_type": "code",
   "execution_count": null,
   "id": "938a6531",
   "metadata": {
    "ExecuteTime": {
     "end_time": "2022-07-19T22:00:57.280851Z",
     "start_time": "2022-07-19T22:00:57.118033Z"
    }
   },
   "outputs": [],
   "source": [
    "# calculate 5-year bins\n",
    "year_bins = (chicago_full.index.year-2000)//5\n",
    "year_bins"
   ]
  },
  {
   "cell_type": "code",
   "execution_count": null,
   "id": "f7e38648",
   "metadata": {
    "ExecuteTime": {
     "end_time": "2022-07-19T22:00:57.325181Z",
     "start_time": "2022-07-19T22:00:57.281912Z"
    }
   },
   "outputs": [],
   "source": [
    "# Fill in a new file_bin column\n",
    "chicago_full['file_bin'] = year_bins\n",
    "chicago_full['file_bin'].value_counts(dropna=False)"
   ]
  },
  {
   "cell_type": "code",
   "execution_count": null,
   "id": "6417fc0d",
   "metadata": {
    "ExecuteTime": {
     "end_time": "2022-07-19T22:00:57.381210Z",
     "start_time": "2022-07-19T22:00:57.363196Z"
    }
   },
   "outputs": [],
   "source": [
    "## still too big, drop some columns OR SEP INTO 2 FILES (one for essential info, one for other)\n",
    "drop_cols = [\"X Coordinate\",\"Y Coordinate\",#\"Latitude\",\"Longitude\"'Updated On',\n",
    "            \"Community Area\",\"FBI Code\"]#,\"IUCR\",]"
   ]
  },
  {
   "cell_type": "code",
   "execution_count": null,
   "id": "e90d0318",
   "metadata": {},
   "outputs": [],
   "source": [
    "chicago_full"
   ]
  },
  {
   "cell_type": "code",
   "execution_count": null,
   "id": "5407e8fe",
   "metadata": {
    "ExecuteTime": {
     "end_time": "2022-07-19T22:00:59.248379Z",
     "start_time": "2022-07-19T22:00:57.382425Z"
    }
   },
   "outputs": [],
   "source": [
    "## columns to keep\n",
    "keep_cols = list(chicago_full.drop(columns=['file_bin',*drop_cols]).columns)\n",
    "keep_cols"
   ]
  },
  {
   "cell_type": "code",
   "execution_count": null,
   "id": "832f341c",
   "metadata": {
    "ExecuteTime": {
     "end_time": "2022-07-19T22:00:59.324800Z",
     "start_time": "2022-07-19T22:00:59.287027Z"
    }
   },
   "outputs": [],
   "source": [
    "# unique # of year bins\n",
    "file_bins = chicago_full['file_bin'].unique()\n",
    "file_bins"
   ]
  },
  {
   "cell_type": "code",
   "execution_count": null,
   "id": "34ff0b1c",
   "metadata": {
    "ExecuteTime": {
     "end_time": "2022-07-19T22:00:59.455428Z",
     "start_time": "2022-07-19T22:00:59.436373Z"
    }
   },
   "outputs": [],
   "source": [
    "from tqdm.notebook import tqdm\n",
    "import os"
   ]
  },
  {
   "cell_type": "code",
   "execution_count": null,
   "id": "b76d5d31",
   "metadata": {
    "ExecuteTime": {
     "end_time": "2022-07-19T22:04:02.904774Z",
     "start_time": "2022-07-19T22:00:59.456601Z"
    }
   },
   "outputs": [],
   "source": [
    "## set save location \n",
    "folder = 'Data/Chicago/'\n",
    "os.makedirs(folder, exist_ok=True)\n",
    "\n",
    "\n",
    "for curr_bin in tqdm(file_bins):\n",
    "    ## save temp slices of dfs to save.\n",
    "    temp_df = chicago_full.loc[ chicago_full['file_bin']==curr_bin,\n",
    "                                keep_cols].sort_index()\n",
    "\n",
    "    ## get years for filename\n",
    "    start = temp_df.index.year.min()\n",
    "    end = temp_df.index.year.max()\n",
    "    fname_temp = f\"{folder}Chicago-Crime_{start}-{end}.csv.gz\"\n",
    "    temp_df.to_csv(fname_temp,compression='gzip',index=False)\n",
    "\n",
    "    print(fname_temp)"
   ]
  },
  {
   "cell_type": "code",
   "execution_count": null,
   "id": "3737c458",
   "metadata": {},
   "outputs": [],
   "source": [
    "import glob\n",
    "saved_files = sorted(glob.glob(folder+'*.*csv.gz'))\n",
    "saved_files"
   ]
  },
  {
   "cell_type": "code",
   "execution_count": null,
   "id": "949a0499",
   "metadata": {
    "ExecuteTime": {
     "end_time": "2022-07-19T22:04:17.516765Z",
     "start_time": "2022-07-19T22:04:17.496966Z"
    }
   },
   "outputs": [],
   "source": [
    "## create a README.txt for the zip files\n",
    "readme = \"\"\"Source URL: \n",
    "- https://data.cityofchicago.org/Public-Safety/Crimes-2001-to-Present/ijzp-q8t2\n",
    "- Filtered for years 2000-Present.\n",
    "\n",
    "Downloaded 07/18/2022\n",
    "- Files are split into ~5 years per file.\n",
    "\n",
    "EXAMPLE USAGE:\n",
    ">> import glob\n",
    ">> import pandas as pd\n",
    ">> folder = \"Data/Chicago/\"\n",
    ">> crime_files = sorted(glob.glob(folder+\"*.csv.gz\"))\n",
    ">> df = pd.concat([pd.read_csv(f) for f in crime_files])\n",
    "\"\"\"\n",
    "print(readme)\n",
    "\n",
    "\n",
    "with open(f\"{folder}README.txt\",'w') as f:\n",
    "    f.write(readme)"
   ]
  },
  {
   "cell_type": "markdown",
   "id": "c5302540",
   "metadata": {},
   "source": [
    "## Confirmation"
   ]
  },
  {
   "cell_type": "markdown",
   "id": "4bc8e8ed",
   "metadata": {},
   "source": [
    "- Follow the example usage above to test if your files were created successfully."
   ]
  },
  {
   "cell_type": "code",
   "execution_count": null,
   "id": "23f44c51",
   "metadata": {},
   "outputs": [],
   "source": [
    "import glob\n",
    "import pandas as pd\n",
    "crime_files = sorted(glob.glob(folder+\"*.csv.gz\"))\n",
    "df = pd.concat([pd.read_csv(f) for f in crime_files])\n",
    "df"
   ]
  }
 ],
 "metadata": {
  "kernelspec": {
   "display_name": "Python (dojo-env)",
   "language": "python",
   "name": "dojo-env"
  },
  "language_info": {
   "codemirror_mode": {
    "name": "ipython",
    "version": 3
   },
   "file_extension": ".py",
   "mimetype": "text/x-python",
   "name": "python",
   "nbconvert_exporter": "python",
   "pygments_lexer": "ipython3",
   "version": "3.8.13"
  },
  "toc": {
   "base_numbering": 1,
   "nav_menu": {},
   "number_sections": false,
   "sideBar": true,
   "skip_h1_title": false,
   "title_cell": "Table of Contents",
   "title_sidebar": "Contents",
   "toc_cell": false,
   "toc_position": {
    "height": "calc(100% - 180px)",
    "left": "10px",
    "top": "150px",
    "width": "262.387px"
   },
   "toc_section_display": true,
   "toc_window_display": false
  }
 },
 "nbformat": 4,
 "nbformat_minor": 5
}
