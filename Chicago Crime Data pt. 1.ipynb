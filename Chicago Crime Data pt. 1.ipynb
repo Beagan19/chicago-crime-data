{
 "cells": [
  {
   "cell_type": "code",
   "execution_count": null,
   "id": "6852877a",
   "metadata": {},
   "outputs": [],
   "source": [
    "import pandas as pd\n",
    "import matplotlib.pyplot as plt\n",
    "import matplotlib.dates as mdates\n",
    "import matplotlib.ticker as mticks\n",
    "\n",
    "import missingno as miss\n",
    "\n",
    "import seaborn as sns\n",
    "import numpy as np\n",
    "# import statsmodels.tsa.api as tsa\n",
    "\n",
    "pd.set_option('display.float_format',lambda x:f\"{x:,.2f}\")\n",
    "# Display all values in column\n",
    "pd.set_option('display.max_rows', None)"
   ]
  },
  {
   "cell_type": "code",
   "execution_count": null,
   "id": "5832569b",
   "metadata": {},
   "outputs": [],
   "source": [
    "crime_2001 = pd.read_csv('Data/Chicago/Chicago-Crime_2001.csv')\n",
    "crime_2002 = pd.read_csv('Data/Chicago/Chicago-Crime_2002.csv')\n",
    "crime_2003 = pd.read_csv('Data/Chicago/Chicago-Crime_2003.csv')\n",
    "crime_2004 = pd.read_csv('Data/Chicago/Chicago-Crime_2004.csv')\n",
    "crime_2005 = pd.read_csv('Data/Chicago/Chicago-Crime_2005.csv')\n",
    "crime_2006 = pd.read_csv('Data/Chicago/Chicago-Crime_2006.csv')\n",
    "crime_2007 = pd.read_csv('Data/Chicago/Chicago-Crime_2007.csv')\n",
    "crime_2008 = pd.read_csv('Data/Chicago/Chicago-Crime_2008.csv')\n",
    "crime_2009 = pd.read_csv('Data/Chicago/Chicago-Crime_2009.csv')\n",
    "crime_2010 = pd.read_csv('Data/Chicago/Chicago-Crime_2010.csv')\n",
    "crime_2011 = pd.read_csv('Data/Chicago/Chicago-Crime_2011.csv')\n",
    "crime_2012 = pd.read_csv('Data/Chicago/Chicago-Crime_2012.csv')\n",
    "crime_2013 = pd.read_csv('Data/Chicago/Chicago-Crime_2013.csv')\n",
    "crime_2014 = pd.read_csv('Data/Chicago/Chicago-Crime_2014.csv')\n",
    "crime_2015 = pd.read_csv('Data/Chicago/Chicago-Crime_2015.csv')\n",
    "crime_2016 = pd.read_csv('Data/Chicago/Chicago-Crime_2016.csv')\n",
    "crime_2017 = pd.read_csv('Data/Chicago/Chicago-Crime_2017.csv')\n",
    "crime_2018 = pd.read_csv('Data/Chicago/Chicago-Crime_2018.csv')\n",
    "crime_2019 = pd.read_csv('Data/Chicago/Chicago-Crime_2019.csv')\n",
    "crime_2020 = pd.read_csv('Data/Chicago/Chicago-Crime_2020.csv')\n",
    "crime_2021 = pd.read_csv('Data/Chicago/Chicago-Crime_2021.csv')\n",
    "crime_2022 = pd.read_csv('Data/Chicago/Chicago-Crime_2022.csv')\n",
    "crime_2023 = pd.read_csv('Data/Chicago/Chicago-Crime_2023.csv')\n",
    "crime_holiday = pd.read_csv('Data/Holidays-Chicago.csv')"
   ]
  },
  {
   "cell_type": "code",
   "execution_count": null,
   "id": "8de8b825",
   "metadata": {},
   "outputs": [],
   "source": [
    "df = pd.concat([crime_2001, crime_2002, crime_2003, crime_2004, crime_2005, crime_2006, crime_2007, crime_2008, crime_2009, crime_2010, crime_2011, crime_2012, crime_2013, crime_2014, crime_2015, crime_2016, crime_2017, crime_2018, crime_2019, crime_2020, crime_2021, crime_2022, crime_2023, crime_holiday], ignore_index=True)\n",
    "df.head()"
   ]
  },
  {
   "cell_type": "code",
   "execution_count": null,
   "id": "697c2d08",
   "metadata": {},
   "outputs": [],
   "source": [
    "df.isna().sum()"
   ]
  },
  {
   "cell_type": "code",
   "execution_count": null,
   "id": "e492b138",
   "metadata": {},
   "outputs": [],
   "source": [
    "## Make a datetime index using pd.to_datetime\n",
    "ts_df['Datetime'] = pd.to_datetime(ts_df['Date'], infer_datetime_format=True)\n",
    "ts_df"
   ]
  },
  {
   "cell_type": "code",
   "execution_count": null,
   "id": "7c994f96",
   "metadata": {},
   "outputs": [],
   "source": [
    "ts_df['Year'] = ts_df['Datetime'].dt.year\n",
    "ts_df['Month '] = ts_df['Datetime'].dt.month\n",
    "ts_df['Month Name'] = ts_df['Datetime'].dt.month_name()\n",
    "ts_df['Day of Month'] = ts_df['Datetime'].dt.day\n",
    "ts_df['Day of Week'] = ts_df['Datetime'].dt.day_name()\n",
    "ts_df['Hour'] = ts_df['Datetime'].dt.hour"
   ]
  },
  {
   "cell_type": "code",
   "execution_count": null,
   "id": "ca403e93",
   "metadata": {},
   "outputs": [],
   "source": [
    "## Setting the datetime index\n",
    "ts_df = ts_df.set_index(\"Datetime\")\n",
    "ts_df"
   ]
  },
  {
   "cell_type": "code",
   "execution_count": null,
   "id": "833fc09c",
   "metadata": {},
   "outputs": [],
   "source": [
    "ts_df.isna().sum()"
   ]
  },
  {
   "cell_type": "code",
   "execution_count": null,
   "id": "8ce357f8",
   "metadata": {},
   "outputs": [],
   "source": [
    "ts_df.dropna(subset=['District'], inplace=True)\n",
    "ts_df"
   ]
  },
  {
   "cell_type": "code",
   "execution_count": null,
   "id": "4f55868d",
   "metadata": {},
   "outputs": [],
   "source": [
    "ts_df.isna().sum()"
   ]
  },
  {
   "cell_type": "code",
   "execution_count": null,
   "id": "af164ce1",
   "metadata": {},
   "outputs": [],
   "source": [
    "ts_df['State Holidays'] = ts_df['State Holidays'].fillna('None')\n",
    "ts_df['US Holidays'] = ts_df['US Holidays'].fillna('None')\n",
    "ts_df['Location Description'] = ts_df['Location Description'].fillna('Unknown')\n",
    "ts_df.isna().sum()"
   ]
  },
  {
   "cell_type": "code",
   "execution_count": null,
   "id": "7797ee72",
   "metadata": {},
   "outputs": [],
   "source": [
    "ts_df = ts_df.drop(columns=['ID', 'Date', 'Ward', 'Longitude', 'Latitude'])\n",
    "ts_df"
   ]
  },
  {
   "cell_type": "markdown",
   "id": "fd5051bd",
   "metadata": {},
   "source": [
    "### Q1: Which district has the most crimes? Which has the least?"
   ]
  },
  {
   "cell_type": "code",
   "execution_count": null,
   "id": "459259b0",
   "metadata": {
    "scrolled": true
   },
   "outputs": [],
   "source": [
    "district = ts_df.copy()\n",
    "district"
   ]
  },
  {
   "cell_type": "code",
   "execution_count": null,
   "id": "743aaa31",
   "metadata": {},
   "outputs": [],
   "source": [
    "district['District'].value_counts()"
   ]
  },
  {
   "cell_type": "markdown",
   "id": "4367b2b5",
   "metadata": {},
   "source": [
    "- District 8 has the most crimes.\n",
    "- District 21 has the least crimes."
   ]
  },
  {
   "cell_type": "markdown",
   "id": "093d3bbf",
   "metadata": {},
   "source": [
    "### Q2: What months have the most crime? What months have the least?"
   ]
  },
  {
   "cell_type": "code",
   "execution_count": null,
   "id": "3c06c1aa",
   "metadata": {},
   "outputs": [],
   "source": [
    "ts_df['Month Name'].value_counts()"
   ]
  },
  {
   "cell_type": "markdown",
   "id": "0079ff79",
   "metadata": {},
   "source": [
    "- July, August, and May have the most crimes.\n",
    "- February, December, and November have the most crimes."
   ]
  },
  {
   "cell_type": "code",
   "execution_count": null,
   "id": "085da4f1",
   "metadata": {},
   "outputs": [],
   "source": [
    "crime = ts_df.groupby('Month')['Primary Type'].value_counts()\n",
    "crime"
   ]
  },
  {
   "cell_type": "code",
   "execution_count": null,
   "id": "83f2cd54",
   "metadata": {},
   "outputs": [],
   "source": [
    "sns.countplot(data = ts_df, x='Month Name', hue='Primary Type')"
   ]
  }
 ],
 "metadata": {
  "kernelspec": {
   "display_name": "Python (dojo-env)",
   "language": "python",
   "name": "dojo-env"
  },
  "language_info": {
   "codemirror_mode": {
    "name": "ipython",
    "version": 3
   },
   "file_extension": ".py",
   "mimetype": "text/x-python",
   "name": "python",
   "nbconvert_exporter": "python",
   "pygments_lexer": "ipython3",
   "version": "3.9.15"
  },
  "toc": {
   "base_numbering": 1,
   "nav_menu": {},
   "number_sections": false,
   "sideBar": true,
   "skip_h1_title": false,
   "title_cell": "Table of Contents",
   "title_sidebar": "Contents",
   "toc_cell": false,
   "toc_position": {},
   "toc_section_display": true,
   "toc_window_display": false
  }
 },
 "nbformat": 4,
 "nbformat_minor": 5
}
